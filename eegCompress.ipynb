{
 "cells": [
  {
   "cell_type": "code",
   "execution_count": 2,
   "metadata": {},
   "outputs": [],
   "source": [
    "import matplotlib.pyplot as plt\n",
    "%matplotlib widget \n",
    "\n",
    "import numpy as np\n",
    "import mne\n",
    "#mne.datasets.sample.data_path()\n",
    "\n",
    "import torch\n",
    "import eegCompressModels\n",
    "import imp\n",
    "imp.reload(eegCompressModels)\n",
    "\n",
    "import neptune\n",
    "from neptune_pytorch import NeptuneLogger"
   ]
  },
  {
   "cell_type": "markdown",
   "metadata": {},
   "source": [
    "### EEG data"
   ]
  },
  {
   "cell_type": "code",
   "execution_count": 3,
   "metadata": {},
   "outputs": [
    {
     "name": "stdout",
     "output_type": "stream",
     "text": [
      "Extracting EDF parameters from /teamspace/uploads/ExampleLTMFiles/SVD001.edf...\n",
      "EDF file detected\n",
      "Setting channel info structure...\n",
      "Creating raw.info structure...\n"
     ]
    },
    {
     "name": "stderr",
     "output_type": "stream",
     "text": [
      "/tmp/ipykernel_1248/3455569217.py:2: RuntimeWarning: Omitted 9 annotation(s) that were outside data range.\n",
      "  raw = mne.io.read_raw_edf('/teamspace/uploads/ExampleLTMFiles/SVD001.edf')\n"
     ]
    }
   ],
   "source": [
    "#raw = mne.io.read_raw_fif('./mne_data/MNE-sample-data/MEG/sample/sample_audvis_raw.fif')\n",
    "raw = mne.io.read_raw_edf('/teamspace/uploads/ExampleLTMFiles/SVD001.edf')"
   ]
  },
  {
   "cell_type": "code",
   "execution_count": 4,
   "metadata": {},
   "outputs": [
    {
     "name": "stdout",
     "output_type": "stream",
     "text": [
      "<RawEDF | SVD001.edf, 46 x 1276416 (4986.0 s), ~48 KiB, data not loaded>\n",
      "<Info | 8 non-empty values\n",
      " bads: []\n",
      " ch_names: Fp1, F7, T7, P7, O1, F3, C3, P3, A1, Fz, Cz, Fp2, F8, T8, P8, ...\n",
      " chs: 46 EEG\n",
      " custom_ref_applied: False\n",
      " highpass: 0.0 Hz\n",
      " lowpass: 128.0 Hz\n",
      " meas_date: 2001-01-01 04:46:55 UTC\n",
      " nchan: 46\n",
      " projs: []\n",
      " sfreq: 256.0 Hz\n",
      " subject_info: <subject_info | his_id: SVD001>\n",
      ">\n"
     ]
    }
   ],
   "source": [
    "print(raw)\n",
    "print(raw.info)"
   ]
  },
  {
   "cell_type": "code",
   "execution_count": 5,
   "metadata": {},
   "outputs": [
    {
     "name": "stdout",
     "output_type": "stream",
     "text": [
      "(19, 1276416)\n"
     ]
    }
   ],
   "source": [
    "chanList = range(0,19)\n",
    "nChannel = len(chanList)\n",
    "\n",
    "data = raw.get_data()[chanList] #eeg channels\n",
    "print(data.shape)"
   ]
  },
  {
   "cell_type": "code",
   "execution_count": 6,
   "metadata": {},
   "outputs": [],
   "source": [
    "for i in range(nChannel):\n",
    "    data[i,:] = (data[i,:] - np.mean(data[i,:])) / np.std(data[i,:])"
   ]
  },
  {
   "cell_type": "markdown",
   "metadata": {},
   "source": [
    "### Random data"
   ]
  },
  {
   "cell_type": "code",
   "execution_count": 7,
   "metadata": {},
   "outputs": [
    {
     "data": {
      "text/plain": [
       "'\\ndata = np.random.random((1,100000))\\ndata = data - np.mean(data)\\ndata = data/np.std(data)\\nnChannel = data.shape[0]\\n'"
      ]
     },
     "execution_count": 7,
     "metadata": {},
     "output_type": "execute_result"
    }
   ],
   "source": [
    "'''\n",
    "data = np.random.random((1,100000))\n",
    "data = data - np.mean(data)\n",
    "data = data/np.std(data)\n",
    "nChannel = data.shape[0]\n",
    "'''"
   ]
  },
  {
   "cell_type": "markdown",
   "metadata": {},
   "source": [
    "### Define Model, etc."
   ]
  },
  {
   "cell_type": "code",
   "execution_count": 8,
   "metadata": {},
   "outputs": [
    {
     "name": "stdout",
     "output_type": "stream",
     "text": [
      "95 95\n",
      "AE(\n",
      "  (encoder): Sequential(\n",
      "    (0): Linear(in_features=95, out_features=95, bias=True)\n",
      "  )\n",
      "  (decoder): Sequential(\n",
      "    (0): Linear(in_features=95, out_features=95, bias=True)\n",
      "  )\n",
      ")\n"
     ]
    }
   ],
   "source": [
    "# Set in/out parameters\n",
    "numSampleInput = 5\n",
    "outSizeRatio = 1.0\n",
    "inSize = nChannel * numSampleInput\n",
    "outSize = int(inSize * outSizeRatio)\n",
    "print(inSize, outSize)\n",
    "\n",
    "# Construct the DataLoader\n",
    "dataset = eegCompressModels.CustomDataset(data, numSampleInput)\n",
    "batch_size = 32\n",
    "loader = torch.utils.data.DataLoader(dataset, batch_size=batch_size, shuffle=True)\n",
    "\n",
    "# Make the model\n",
    "encoderSizeList = [inSize, outSize]\n",
    "decoderSizeList = [outSize, inSize]\n",
    "encoderActivationList = [False]\n",
    "decoderActivationList = [False]\n",
    "\n",
    "model = eegCompressModels.AE(encoderSizeList, decoderSizeList, encoderActivationList, decoderActivationList)\n",
    "print(model)\n",
    "loss_function = torch.nn.MSELoss()"
   ]
  },
  {
   "cell_type": "code",
   "execution_count": 13,
   "metadata": {},
   "outputs": [],
   "source": [
    "def imageCompare(start, channel = 0, plotOption=\"both\"):\n",
    "\n",
    "    original = data[channel,start:start + numSampleInput]\n",
    "\n",
    "    modelInput = np.reshape(data[:, start:start + numSampleInput], (inSize, -1), order='F').astype('float32').flatten()\n",
    "    encoded = model.encoder(torch.tensor(modelInput))\n",
    "    decoded = np.reshape(model.decoder(encoded).detach().numpy(), (nChannel, numSampleInput),order=\"C\")[channel, start:start + numSampleInput]\n",
    "\n",
    "    fig = plt.figure()\n",
    "    if plotOption == \"both\":\n",
    "        plt.plot(original, label='original')\n",
    "        plt.plot(decoded, label='decoded')\n",
    "        plt.legend()\n",
    "    elif plotOption == \"orig\":\n",
    "        plt.plot(original)\n",
    "        plt.title('original')\n",
    "    else: \n",
    "        plt.plot(decoded)\n",
    "        plt.title('decoded')\n",
    "\n",
    "    return fig"
   ]
  },
  {
   "cell_type": "code",
   "execution_count": 10,
   "metadata": {},
   "outputs": [
    {
     "name": "stderr",
     "output_type": "stream",
     "text": [
      "[neptune] [warning] NeptuneWarning: By default, these monitoring options are disabled in interactive sessions: 'capture_stdout', 'capture_stderr', 'capture_traceback', 'capture_hardware_metrics'. You can set them to 'True' when initializing the run and the monitoring will continue until you call run.stop() or the kernel stops. NOTE: To track the source files, pass their paths to the 'source_code' argument. For help, see: https://docs.neptune.ai/logging/source_code/\n"
     ]
    },
    {
     "name": "stdout",
     "output_type": "stream",
     "text": [
      "[neptune] [info   ] Neptune initialized. Open in the app: https://app.neptune.ai/jettinger35/eegCompress/e/EEG-89\n"
     ]
    }
   ],
   "source": [
    "run = neptune.init_run(\n",
    "    project=\"jettinger35/eegCompress\",\n",
    "    api_token=\"eyJhcGlfYWRkcmVzcyI6Imh0dHBzOi8vYXBwLm5lcHR1bmUuYWkiLCJhcGlfdXJsIjoiaHR0cHM6Ly9hcHAubmVwdHVuZS5haSIsImFwaV9rZXkiOiIzMjFlMzY2MS1iOWZiLTRmZWEtOGMwNy0zOTVkMTljOGVjYTMifQ==\",\n",
    ")\n",
    "\n",
    "npt_logger = NeptuneLogger(\n",
    "    run=run,\n",
    "    model=model)"
   ]
  },
  {
   "cell_type": "code",
   "execution_count": 11,
   "metadata": {},
   "outputs": [],
   "source": [
    "#optimizer = torch.optim.SGD(model.parameters(), lr=0.001, momentum=0.9)\n",
    "optimizer = torch.optim.Adam(model.parameters())#, lr = 1e-1, weight_decay = 1e-8)"
   ]
  },
  {
   "cell_type": "code",
   "execution_count": 12,
   "metadata": {},
   "outputs": [
    {
     "name": "stderr",
     "output_type": "stream",
     "text": [
      "No such comm: ade342b70fc148e883543a8a51805df0\n",
      "No such comm: ade342b70fc148e883543a8a51805df0\n",
      "No such comm: ade342b70fc148e883543a8a51805df0\n",
      "No such comm: ade342b70fc148e883543a8a51805df0\n",
      "No such comm: ade342b70fc148e883543a8a51805df0\n",
      "No such comm: ade342b70fc148e883543a8a51805df0\n"
     ]
    }
   ],
   "source": [
    "epochs = 5\n",
    "startPlot = 0\n",
    "\n",
    "outputs = []\n",
    "losses = []\n",
    "\n",
    "for epoch in range(epochs):\n",
    "\tfor (image, _) in loader:\n",
    "\t\t# Output of Autoencoder\n",
    "\t\treconstructed = model(image.to(torch.float32))\n",
    "\t\t\n",
    "\t\t# Calculating the loss function\n",
    "\t\tloss = loss_function(reconstructed, image)\n",
    "\t\t\n",
    "\t\t# The gradients are set to zero,\n",
    "\t\t# the gradient is computed and stored.\n",
    "\t\t# .step() performs parameter update\n",
    "\t\toptimizer.zero_grad()\n",
    "\t\tloss.backward()\n",
    "\t\toptimizer.step()\n",
    "\t\t\n",
    "\t\t# Storing the losses in a list for plotting\n",
    "\t\tlosses.append(loss)\n",
    "\t\toutputs.append((epochs, image, reconstructed))\n",
    "\t\trun[npt_logger.base_namespace][\"train/log_loss\"].append(np.log(loss.item()))\n",
    "\n",
    "\tfig = imageCompare(startPlot)\n",
    "\trun[\"fig\"].append(fig)\n",
    "\tplt.close()"
   ]
  },
  {
   "cell_type": "code",
   "execution_count": 19,
   "metadata": {},
   "outputs": [
    {
     "data": {
      "text/plain": [
       "tensor([[ 215.4323,  198.3605,  409.5109,  ...,   52.7055,  111.4549,\n",
       "          157.6690],\n",
       "        [ -13.2006,  -10.0483,  -18.9231,  ...,   -4.9163,   -6.7216,\n",
       "          -10.3051],\n",
       "        [ 459.2415,  420.5600,  868.4620,  ...,  113.8792,  238.3107,\n",
       "          338.8366],\n",
       "        ...,\n",
       "        [ -88.9143,  -82.8908, -175.0695,  ...,  -20.2343,  -47.3140,\n",
       "          -68.4423],\n",
       "        [  15.6589,   13.0399,   27.9802,  ...,    3.9087,    8.6360,\n",
       "           14.6144],\n",
       "        [-203.7374, -187.7820, -389.5276,  ...,  -49.9783, -106.9117,\n",
       "         -152.0452]])"
      ]
     },
     "execution_count": 19,
     "metadata": {},
     "output_type": "execute_result"
    }
   ],
   "source": [
    "list(model.parameters())[0].grad"
   ]
  },
  {
   "cell_type": "code",
   "execution_count": 25,
   "metadata": {},
   "outputs": [
    {
     "name": "stdout",
     "output_type": "stream",
     "text": [
      "('encoder.0.weight', tensor([[ 215.4323,  198.3605,  409.5109,  ...,   52.7055,  111.4549,\n",
      "          157.6690],\n",
      "        [ -13.2006,  -10.0483,  -18.9231,  ...,   -4.9163,   -6.7216,\n",
      "          -10.3051],\n",
      "        [ 459.2415,  420.5600,  868.4620,  ...,  113.8792,  238.3107,\n",
      "          338.8366],\n",
      "        ...,\n",
      "        [ -88.9143,  -82.8908, -175.0695,  ...,  -20.2343,  -47.3140,\n",
      "          -68.4423],\n",
      "        [  15.6589,   13.0399,   27.9802,  ...,    3.9087,    8.6360,\n",
      "           14.6144],\n",
      "        [-203.7374, -187.7820, -389.5276,  ...,  -49.9783, -106.9117,\n",
      "         -152.0452]]))\n",
      "('encoder.0.bias', tensor([  67.8681,  -67.1319,  188.1647,  -38.4903,    7.5712,  -57.8935,\n",
      "         -19.2971,  106.3881,  -13.5491,  -25.0923,  -51.2632,   89.2087,\n",
      "          67.9412,   69.7600,  131.8068,  -45.5701,  -88.2228,   44.3773,\n",
      "          19.7188,  -60.5031,   -1.6164,  -25.4349, -200.4844, -132.4074,\n",
      "         -83.8686,   -4.5640,   46.8103,   99.9575,  -20.9220,  -60.4784,\n",
      "          12.3480,   85.8176,   -6.8671,  -76.5673, -117.6559,  -58.2652,\n",
      "         -25.2040,  -27.5496,    8.2723,   89.6331,  -33.0008,  -28.2021,\n",
      "         112.3816,   -4.9903,   -6.1683,   20.5889,   16.8952,  -54.8462,\n",
      "         -44.5126,  -89.4022,   80.8507,   48.0509,  322.5303,   22.4316,\n",
      "          61.1507,   82.1124,   48.8279,   50.4947,  -26.6317,   26.2670,\n",
      "          32.7485,   32.8627,  -53.5352,   97.5164,  -49.3682,   17.5873,\n",
      "          30.9313,   14.6066,  103.1613,   64.2862,   12.0100,   19.0017,\n",
      "          22.0602,  -10.5278,   -3.6248,   25.8127,  -47.4467,   -3.3924,\n",
      "        -113.4057,   -5.1126,   72.1128,  -19.8407,    6.1298,   42.6047,\n",
      "          37.2069,   -4.0312,  -43.4941,  -48.2496,   56.9177,  -66.4735,\n",
      "         -44.6133,  -13.9701,   38.6668,   14.0951,  -49.3905]))\n",
      "('decoder.0.weight', tensor([[-1.3538e+02, -5.8693e+01,  7.4910e+02,  ...,  7.8585e+00,\n",
      "         -1.4713e+02, -3.8386e+02],\n",
      "        [ 1.0687e+01,  6.4664e+00, -6.2247e+01,  ...,  6.4779e-01,\n",
      "          6.6487e+00,  3.4369e+01],\n",
      "        [ 3.3057e+02,  1.4087e+02, -1.7857e+03,  ..., -2.5291e+01,\n",
      "          3.6080e+02,  9.1462e+02],\n",
      "        ...,\n",
      "        [-7.9915e+01, -3.3350e+01,  4.4901e+02,  ...,  3.6115e+00,\n",
      "         -8.6590e+01, -2.2970e+02],\n",
      "        [ 3.8656e+01,  1.4718e+01, -2.0609e+02,  ..., -3.2995e+00,\n",
      "          5.0025e+01,  1.0098e+02],\n",
      "        [-3.9410e+01, -1.4538e+01,  2.1648e+02,  ...,  2.7471e+00,\n",
      "         -4.9032e+01, -1.0631e+02]]))\n",
      "('decoder.0.bias', tensor([ 0.5328, -0.1564, -3.2333,  0.0996,  0.7490,  3.0167, -0.6729,  0.4390,\n",
      "         0.4113, -0.0626,  0.8065, -0.8456,  0.4377, -0.6390, -0.4240,  0.6516,\n",
      "        -0.5189, -1.7573, -0.4138,  1.0230,  0.5705, -0.0463, -0.2306,  0.1111,\n",
      "        -0.4822,  0.9498, -0.2392,  0.0141,  0.7091,  1.6007, -0.1687, -0.6299,\n",
      "        -0.8389,  1.0464, -1.0666, -1.0189, -1.1954,  0.8202, -1.8891,  0.4842,\n",
      "         0.1114, -0.2686, -0.5444, -0.5539,  0.6854, -0.2990, -2.5067, -0.5393,\n",
      "         0.5932,  0.0136,  0.0587,  0.1597, -0.9637,  0.5129,  1.3409, -1.7428,\n",
      "         0.3656,  0.0417,  1.0599, -0.7814,  0.6657,  0.3469, -0.8807, -1.8341,\n",
      "         0.5104, -0.5171, -4.2209, -0.3235,  0.0757,  0.8947, -1.2229,  0.6386,\n",
      "        -0.3728,  0.2078, -0.0569,  0.1280,  0.0748,  0.2915,  0.3157,  0.2713,\n",
      "        -3.3957,  0.5200,  0.2062, -0.8437, -0.0251,  0.4199,  0.0872,  0.5804,\n",
      "         0.1742,  0.3989,  4.2750, -0.1142, -0.1233,  0.0987, -0.5867]))\n"
     ]
    }
   ],
   "source": [
    "for name, param in model.named_parameters():\n",
    "    print((name, param.grad))"
   ]
  },
  {
   "cell_type": "code",
   "execution_count": 70,
   "metadata": {},
   "outputs": [
    {
     "data": {
      "application/vnd.jupyter.widget-view+json": {
       "model_id": "93847bd2466348988b5eb74fcd9abab6",
       "version_major": 2,
       "version_minor": 0
      },
      "image/png": "[encoded data removed]",
      "text/html": [
       "\n",
       "            <div style=\"display: inline-block;\">\n",
       "                <div class=\"jupyter-widgets widget-label\" style=\"text-align: center;\">\n",
       "                    Figure\n",
       "                </div>\n",
       "                <img src='data:image/png;base64,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' width=640.0/>\n",
       "            </div>\n",
       "        "
      ],
      "text/plain": [
       "Canvas(toolbar=Toolbar(toolitems=[('Home', 'Reset original view', 'home', 'home'), ('Back', 'Back to previous …"
      ]
     },
     "metadata": {},
     "output_type": "display_data"
    }
   ],
   "source": [
    "startPlot = 10000\n",
    "plt.show(imageCompare(startPlot))"
   ]
  },
  {
   "cell_type": "markdown",
   "metadata": {},
   "source": [
    "### Saving the model"
   ]
  },
  {
   "cell_type": "code",
   "execution_count": 8,
   "metadata": {},
   "outputs": [
    {
     "name": "stdout",
     "output_type": "stream",
     "text": [
      "total 812K\n",
      "-rwxr--r-- 1 jettinger35 jettinger35   35 Jan  7 17:09 README.md\n",
      "drwxr-xr-x 1 jettinger35 jettinger35 4.0K Jan 11 20:57 __pycache__\n",
      "-rwxr--r-- 1 jettinger35 jettinger35  85K Jan 11 21:18 eegCompress.ipynb\n",
      "-rwxr--r-- 1 jettinger35 jettinger35 2.7K Jan 11 20:54 eegCompressModels.py\n",
      "-rw-r--r-- 1 jettinger35 jettinger35 712K Jan 11 21:23 savedModel\n"
     ]
    }
   ],
   "source": [
    "torch.save(model.state_dict(), 'savedModel')\n",
    "!ls -lh"
   ]
  },
  {
   "cell_type": "markdown",
   "metadata": {},
   "source": [
    "### Misc"
   ]
  }
 ],
 "metadata": {
  "language_info": {
   "name": "python"
  }
 },
 "nbformat": 4,
 "nbformat_minor": 2
}
