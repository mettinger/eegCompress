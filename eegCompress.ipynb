{
 "cells": [
  {
   "cell_type": "code",
   "execution_count": 1,
   "metadata": {},
   "outputs": [
    {
     "name": "stderr",
     "output_type": "stream",
     "text": [
      "/tmp/ipykernel_41475/4244858251.py:10: DeprecationWarning: the imp module is deprecated in favour of importlib and slated for removal in Python 3.12; see the module's documentation for alternative uses\n",
      "  import imp\n"
     ]
    }
   ],
   "source": [
    "import matplotlib.pyplot as plt\n",
    "%matplotlib widget \n",
    "\n",
    "import numpy as np\n",
    "import mne\n",
    "#mne.datasets.sample.data_path()\n",
    "\n",
    "import torch\n",
    "import eegCompressModels\n",
    "import imp\n",
    "imp.reload(eegCompressModels)\n",
    "\n",
    "import neptune\n",
    "from neptune_pytorch import NeptuneLogger"
   ]
  },
  {
   "cell_type": "markdown",
   "metadata": {},
   "source": [
    "### EEG data"
   ]
  },
  {
   "cell_type": "code",
   "execution_count": 2,
   "metadata": {},
   "outputs": [
    {
     "name": "stdout",
     "output_type": "stream",
     "text": [
      "Extracting EDF parameters from /teamspace/uploads/ExampleLTMFiles/SVD001.edf...\n",
      "EDF file detected\n",
      "Setting channel info structure...\n",
      "Creating raw.info structure...\n"
     ]
    },
    {
     "name": "stderr",
     "output_type": "stream",
     "text": [
      "/tmp/ipykernel_1243/3455569217.py:2: RuntimeWarning: Omitted 9 annotation(s) that were outside data range.\n",
      "  raw = mne.io.read_raw_edf('/teamspace/uploads/ExampleLTMFiles/SVD001.edf')\n"
     ]
    }
   ],
   "source": [
    "#raw = mne.io.read_raw_fif('./mne_data/MNE-sample-data/MEG/sample/sample_audvis_raw.fif')\n",
    "raw = mne.io.read_raw_edf('/teamspace/uploads/ExampleLTMFiles/SVD001.edf')"
   ]
  },
  {
   "cell_type": "code",
   "execution_count": 3,
   "metadata": {},
   "outputs": [
    {
     "name": "stdout",
     "output_type": "stream",
     "text": [
      "<RawEDF | SVD001.edf, 46 x 1276416 (4986.0 s), ~48 KiB, data not loaded>\n",
      "<Info | 8 non-empty values\n",
      " bads: []\n",
      " ch_names: Fp1, F7, T7, P7, O1, F3, C3, P3, A1, Fz, Cz, Fp2, F8, T8, P8, ...\n",
      " chs: 46 EEG\n",
      " custom_ref_applied: False\n",
      " highpass: 0.0 Hz\n",
      " lowpass: 128.0 Hz\n",
      " meas_date: 2001-01-01 04:46:55 UTC\n",
      " nchan: 46\n",
      " projs: []\n",
      " sfreq: 256.0 Hz\n",
      " subject_info: <subject_info | his_id: SVD001>\n",
      ">\n"
     ]
    }
   ],
   "source": [
    "print(raw)\n",
    "print(raw.info)"
   ]
  },
  {
   "cell_type": "code",
   "execution_count": 4,
   "metadata": {},
   "outputs": [
    {
     "data": {
      "text/plain": [
       "(19, 1276416)"
      ]
     },
     "execution_count": 4,
     "metadata": {},
     "output_type": "execute_result"
    }
   ],
   "source": [
    "chanList = range(0,19)\n",
    "nChannel = len(chanList)\n",
    "\n",
    "data = raw.get_data()[chanList] #eeg channels\n",
    "data.shape"
   ]
  },
  {
   "cell_type": "markdown",
   "metadata": {},
   "source": [
    "### Random data"
   ]
  },
  {
   "cell_type": "code",
   "execution_count": 2,
   "metadata": {},
   "outputs": [],
   "source": [
    "data = np.random.random((1,100000))\n",
    "data = data - np.mean(data)\n",
    "data = data/np.std(data)\n",
    "nChannel = data.shape[0]"
   ]
  },
  {
   "cell_type": "markdown",
   "metadata": {},
   "source": [
    "### Define Model, etc."
   ]
  },
  {
   "cell_type": "code",
   "execution_count": 3,
   "metadata": {},
   "outputs": [
    {
     "name": "stdout",
     "output_type": "stream",
     "text": [
      "5 5\n",
      "AE(\n",
      "  (encoder): Sequential(\n",
      "    (0): Linear(in_features=5, out_features=5, bias=True)\n",
      "  )\n",
      "  (decoder): Sequential(\n",
      "    (0): Linear(in_features=5, out_features=5, bias=True)\n",
      "  )\n",
      ")\n"
     ]
    }
   ],
   "source": [
    "# Set in/out parameters\n",
    "numSampleInput = 5\n",
    "outSizeRatio = 1.0\n",
    "inSize = nChannel * numSampleInput\n",
    "outSize = int(inSize * outSizeRatio)\n",
    "print(inSize, outSize)\n",
    "\n",
    "# Construct the DataLoader\n",
    "dataset = eegCompressModels.CustomDataset(data, numSampleInput)\n",
    "batch_size = 32\n",
    "loader = torch.utils.data.DataLoader(dataset, batch_size=batch_size, shuffle=True)\n",
    "\n",
    "# Make the model\n",
    "encoderSizeList = [inSize, outSize]\n",
    "decoderSizeList = [outSize, inSize]\n",
    "encoderActivationList = [False]\n",
    "decoderActivationList = [False]\n",
    "\n",
    "model = eegCompressModels.AE(encoderSizeList, decoderSizeList, encoderActivationList, decoderActivationList)\n",
    "print(model)\n",
    "loss_function = torch.nn.MSELoss()"
   ]
  },
  {
   "cell_type": "code",
   "execution_count": 4,
   "metadata": {},
   "outputs": [],
   "source": [
    "def imageCompare(start, channel = 0):\n",
    "\n",
    "    original = data[channel,start:start + numSampleInput]\n",
    "\n",
    "    modelInput = np.reshape(data[:, start:start + numSampleInput], (inSize, -1), order='F').astype('float32').flatten()\n",
    "    encoded = model.encoder(torch.tensor(modelInput))\n",
    "    decoded = np.reshape(model.decoder(encoded).detach().numpy(), (nChannel, numSampleInput),order=\"C\")[channel, start:start + numSampleInput]\n",
    "\n",
    "    fig = plt.figure()\n",
    "    plt.plot(original)\n",
    "    plt.plot(decoded)\n",
    "    return fig"
   ]
  },
  {
   "cell_type": "code",
   "execution_count": 5,
   "metadata": {},
   "outputs": [
    {
     "name": "stderr",
     "output_type": "stream",
     "text": [
      "[neptune] [warning] NeptuneWarning: By default, these monitoring options are disabled in interactive sessions: 'capture_stdout', 'capture_stderr', 'capture_traceback', 'capture_hardware_metrics'. You can set them to 'True' when initializing the run and the monitoring will continue until you call run.stop() or the kernel stops. NOTE: To track the source files, pass their paths to the 'source_code' argument. For help, see: https://docs.neptune.ai/logging/source_code/\n"
     ]
    },
    {
     "name": "stdout",
     "output_type": "stream",
     "text": [
      "[neptune] [info   ] Neptune initialized. Open in the app: https://app.neptune.ai/jettinger35/eegCompress/e/EEG-68\n"
     ]
    }
   ],
   "source": [
    "run = neptune.init_run(\n",
    "    project=\"jettinger35/eegCompress\",\n",
    "    api_token=\"eyJhcGlfYWRkcmVzcyI6Imh0dHBzOi8vYXBwLm5lcHR1bmUuYWkiLCJhcGlfdXJsIjoiaHR0cHM6Ly9hcHAubmVwdHVuZS5haSIsImFwaV9rZXkiOiIzMjFlMzY2MS1iOWZiLTRmZWEtOGMwNy0zOTVkMTljOGVjYTMifQ==\",\n",
    ")\n",
    "\n",
    "npt_logger = NeptuneLogger(\n",
    "    run=run,\n",
    "    model=model)"
   ]
  },
  {
   "cell_type": "code",
   "execution_count": 6,
   "metadata": {},
   "outputs": [],
   "source": [
    "#optimizer = torch.optim.SGD(model.parameters(), lr=0.1, momentum=0.9)\n",
    "optimizer = torch.optim.Adam(model.parameters(), lr = 1e-1, weight_decay = 1e-8)"
   ]
  },
  {
   "cell_type": "code",
   "execution_count": 7,
   "metadata": {},
   "outputs": [
    {
     "name": "stderr",
     "output_type": "stream",
     "text": [
      "No such comm: 1f859201009f4ad9a76ed5a215779a02\n",
      "No such comm: 898171b3e5b5471182c870dc825e3b36\n",
      "No such comm: 898171b3e5b5471182c870dc825e3b36\n",
      "No such comm: 898171b3e5b5471182c870dc825e3b36\n",
      "No such comm: 898171b3e5b5471182c870dc825e3b36\n",
      "No such comm: 898171b3e5b5471182c870dc825e3b36\n",
      "No such comm: 898171b3e5b5471182c870dc825e3b36\n",
      "No such comm: 5ef42e14429c4b048251082836d7ef1f\n",
      "No such comm: 5ef42e14429c4b048251082836d7ef1f\n",
      "No such comm: 5ef42e14429c4b048251082836d7ef1f\n",
      "No such comm: 5ef42e14429c4b048251082836d7ef1f\n",
      "No such comm: 5ef42e14429c4b048251082836d7ef1f\n",
      "No such comm: 5ef42e14429c4b048251082836d7ef1f\n",
      "No such comm: 5dae1d4a11aa480c94cb851cfe3ccc4d\n",
      "No such comm: 5dae1d4a11aa480c94cb851cfe3ccc4d\n",
      "No such comm: 5dae1d4a11aa480c94cb851cfe3ccc4d\n",
      "No such comm: 5dae1d4a11aa480c94cb851cfe3ccc4d\n",
      "No such comm: 5dae1d4a11aa480c94cb851cfe3ccc4d\n",
      "No such comm: 5dae1d4a11aa480c94cb851cfe3ccc4d\n",
      "No such comm: 290be86e2d5c480192e4f6a904f7ad4a\n",
      "No such comm: 290be86e2d5c480192e4f6a904f7ad4a\n",
      "No such comm: 290be86e2d5c480192e4f6a904f7ad4a\n",
      "No such comm: 290be86e2d5c480192e4f6a904f7ad4a\n",
      "No such comm: 290be86e2d5c480192e4f6a904f7ad4a\n",
      "No such comm: 290be86e2d5c480192e4f6a904f7ad4a\n",
      "No such comm: b427f5bda2744d1ba1dec1dcab2dff7c\n",
      "No such comm: b427f5bda2744d1ba1dec1dcab2dff7c\n",
      "No such comm: b427f5bda2744d1ba1dec1dcab2dff7c\n",
      "No such comm: b427f5bda2744d1ba1dec1dcab2dff7c\n",
      "No such comm: b427f5bda2744d1ba1dec1dcab2dff7c\n",
      "No such comm: b427f5bda2744d1ba1dec1dcab2dff7c\n"
     ]
    }
   ],
   "source": [
    "epochs = 20\n",
    "startPlot = 0\n",
    "\n",
    "outputs = []\n",
    "losses = []\n",
    "\n",
    "for epoch in range(epochs):\n",
    "\tfor (image, _) in loader:\n",
    "\t\t\n",
    "\t\t# Output of Autoencoder\n",
    "\t\treconstructed = model(image.to(torch.float32))\n",
    "\t\t\n",
    "\t\t# Calculating the loss function\n",
    "\t\tloss = loss_function(reconstructed, image)\n",
    "\t\t\n",
    "\t\t# The gradients are set to zero,\n",
    "\t\t# the gradient is computed and stored.\n",
    "\t\t# .step() performs parameter update\n",
    "\t\toptimizer.zero_grad()\n",
    "\t\tloss.backward()\n",
    "\t\toptimizer.step()\n",
    "\t\t\n",
    "\t\t# Storing the losses in a list for plotting\n",
    "\t\tlosses.append(loss)\n",
    "\t\toutputs.append((epochs, image, reconstructed))\n",
    "\t\trun[npt_logger.base_namespace][\"train/log_loss\"].append(np.log(loss.item()))\n",
    "\n",
    "\tfig = imageCompare(startPlot)\n",
    "\trun[\"fig\"].append(fig)\n",
    "\tplt.close()"
   ]
  },
  {
   "cell_type": "code",
   "execution_count": 8,
   "metadata": {},
   "outputs": [
    {
     "data": {
      "application/vnd.jupyter.widget-view+json": {
       "model_id": "5ed7c91653e94da1b8ef465875f19334",
       "version_major": 2,
       "version_minor": 0
      },
      "image/png": "[encoded data removed]",
      "text/html": [
       "\n",
       "            <div style=\"display: inline-block;\">\n",
       "                <div class=\"jupyter-widgets widget-label\" style=\"text-align: center;\">\n",
       "                    Figure\n",
       "                </div>\n",
       "                <img src='data:image/png;base64,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' width=640.0/>\n",
       "            </div>\n",
       "        "
      ],
      "text/plain": [
       "Canvas(toolbar=Toolbar(toolitems=[('Home', 'Reset original view', 'home', 'home'), ('Back', 'Back to previous …"
      ]
     },
     "metadata": {},
     "output_type": "display_data"
    }
   ],
   "source": [
    "startPlot = 0\n",
    "plt.show(imageCompare(startPlot))"
   ]
  },
  {
   "cell_type": "markdown",
   "metadata": {},
   "source": [
    "### Saving the model"
   ]
  },
  {
   "cell_type": "code",
   "execution_count": 15,
   "metadata": {},
   "outputs": [
    {
     "data": {
      "text/plain": [
       "(1, 100000)"
      ]
     },
     "execution_count": 15,
     "metadata": {},
     "output_type": "execute_result"
    }
   ],
   "source": [
    "data.shape"
   ]
  },
  {
   "cell_type": "code",
   "execution_count": 8,
   "metadata": {},
   "outputs": [
    {
     "name": "stdout",
     "output_type": "stream",
     "text": [
      "total 812K\n",
      "-rwxr--r-- 1 jettinger35 jettinger35   35 Jan  7 17:09 README.md\n",
      "drwxr-xr-x 1 jettinger35 jettinger35 4.0K Jan 11 20:57 __pycache__\n",
      "-rwxr--r-- 1 jettinger35 jettinger35  85K Jan 11 21:18 eegCompress.ipynb\n",
      "-rwxr--r-- 1 jettinger35 jettinger35 2.7K Jan 11 20:54 eegCompressModels.py\n",
      "-rw-r--r-- 1 jettinger35 jettinger35 712K Jan 11 21:23 savedModel\n"
     ]
    }
   ],
   "source": [
    "torch.save(model.state_dict(), 'savedModel')\n",
    "!ls -lh"
   ]
  },
  {
   "cell_type": "markdown",
   "metadata": {},
   "source": [
    "### Misc"
   ]
  },
  {
   "cell_type": "code",
   "execution_count": null,
   "metadata": {},
   "outputs": [],
   "source": [
    "nBlock = data.size // inSize\n",
    "resizeSamples = nBlock * numSampleInput\n",
    "\n",
    "dataReshape = np.reshape(data[:, 0:resizeSamples], (inSize, -1), order='F').transpose()\n",
    "dataReshape = dataReshape.astype('float32')\n",
    "dataReshape.shape"
   ]
  },
  {
   "cell_type": "code",
   "execution_count": null,
   "metadata": {},
   "outputs": [],
   "source": [
    "# RANDOM TEST\n",
    "\n",
    "inSize = 20\n",
    "nSample = 1000000\n",
    "\n",
    "testData = np.random.random((nSample, inSize)).astype('float32')\n",
    "dataset = torch.utils.data.TensorDataset(torch.from_numpy(testData), torch.from_numpy(testData))\n",
    "\n",
    "batch_size = 32\n",
    "loader = torch.utils.data.DataLoader(dataset, batch_size=batch_size, shuffle=True)"
   ]
  }
 ],
 "metadata": {
  "language_info": {
   "name": "python"
  }
 },
 "nbformat": 4,
 "nbformat_minor": 2
}
