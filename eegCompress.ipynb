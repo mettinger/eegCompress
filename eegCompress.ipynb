{
  "cells": [
    {
      "cell_type": "code",
      "source": [
        "pip install mne neptune neptune_pytorch"
      ],
      "metadata": {
        "colab": {
          "base_uri": "https://localhost:8080/"
        },
        "id": "IVehWI_sZJtF",
        "outputId": "1477df97-d550-4da3-c288-c44aeeeb9ea0"
      },
      "execution_count": 1,
      "outputs": [
        {
          "output_type": "stream",
          "name": "stdout",
          "text": [
            "Requirement already satisfied: mne in /usr/local/lib/python3.11/dist-packages (1.9.0)\n",
            "Requirement already satisfied: neptune in /usr/local/lib/python3.11/dist-packages (1.13.0)\n",
            "Requirement already satisfied: neptune_pytorch in /usr/local/lib/python3.11/dist-packages (2.0.0)\n",
            "Requirement already satisfied: decorator in /usr/local/lib/python3.11/dist-packages (from mne) (4.4.2)\n",
            "Requirement already satisfied: jinja2 in /usr/local/lib/python3.11/dist-packages (from mne) (3.1.5)\n",
            "Requirement already satisfied: lazy-loader>=0.3 in /usr/local/lib/python3.11/dist-packages (from mne) (0.4)\n",
            "Requirement already satisfied: matplotlib>=3.6 in /usr/local/lib/python3.11/dist-packages (from mne) (3.10.0)\n",
            "Requirement already satisfied: numpy<3,>=1.23 in /usr/local/lib/python3.11/dist-packages (from mne) (1.26.4)\n",
            "Requirement already satisfied: packaging in /usr/local/lib/python3.11/dist-packages (from mne) (24.2)\n",
            "Requirement already satisfied: pooch>=1.5 in /usr/local/lib/python3.11/dist-packages (from mne) (1.8.2)\n",
            "Requirement already satisfied: scipy>=1.9 in /usr/local/lib/python3.11/dist-packages (from mne) (1.13.1)\n",
            "Requirement already satisfied: tqdm in /usr/local/lib/python3.11/dist-packages (from mne) (4.67.1)\n",
            "Requirement already satisfied: GitPython>=2.0.8 in /usr/local/lib/python3.11/dist-packages (from neptune) (3.1.44)\n",
            "Requirement already satisfied: Pillow>=1.1.6 in /usr/local/lib/python3.11/dist-packages (from neptune) (11.1.0)\n",
            "Requirement already satisfied: PyJWT in /usr/local/lib/python3.11/dist-packages (from neptune) (2.10.1)\n",
            "Requirement already satisfied: boto3>=1.28.0 in /usr/local/lib/python3.11/dist-packages (from neptune) (1.36.2)\n",
            "Requirement already satisfied: bravado<12.0.0,>=11.0.0 in /usr/local/lib/python3.11/dist-packages (from neptune) (11.0.3)\n",
            "Requirement already satisfied: click>=7.0 in /usr/local/lib/python3.11/dist-packages (from neptune) (8.1.8)\n",
            "Requirement already satisfied: future>=0.17.1 in /usr/local/lib/python3.11/dist-packages (from neptune) (1.0.0)\n",
            "Requirement already satisfied: oauthlib>=2.1.0 in /usr/local/lib/python3.11/dist-packages (from neptune) (3.2.2)\n",
            "Requirement already satisfied: pandas in /usr/local/lib/python3.11/dist-packages (from neptune) (2.2.2)\n",
            "Requirement already satisfied: psutil in /usr/local/lib/python3.11/dist-packages (from neptune) (5.9.5)\n",
            "Requirement already satisfied: requests>=2.20.0 in /usr/local/lib/python3.11/dist-packages (from neptune) (2.32.3)\n",
            "Requirement already satisfied: requests-oauthlib>=1.0.0 in /usr/local/lib/python3.11/dist-packages (from neptune) (1.3.1)\n",
            "Requirement already satisfied: six>=1.12.0 in /usr/local/lib/python3.11/dist-packages (from neptune) (1.17.0)\n",
            "Requirement already satisfied: swagger-spec-validator>=2.7.4 in /usr/local/lib/python3.11/dist-packages (from neptune) (3.0.4)\n",
            "Requirement already satisfied: typing-extensions>=3.10.0 in /usr/local/lib/python3.11/dist-packages (from neptune) (4.12.2)\n",
            "Requirement already satisfied: urllib3 in /usr/local/lib/python3.11/dist-packages (from neptune) (2.3.0)\n",
            "Requirement already satisfied: websocket-client!=1.0.0,>=0.35.0 in /usr/local/lib/python3.11/dist-packages (from neptune) (1.8.0)\n",
            "Requirement already satisfied: torch>1.8.0 in /usr/local/lib/python3.11/dist-packages (from neptune_pytorch) (2.5.1+cu121)\n",
            "Requirement already satisfied: botocore<1.37.0,>=1.36.2 in /usr/local/lib/python3.11/dist-packages (from boto3>=1.28.0->neptune) (1.36.2)\n",
            "Requirement already satisfied: jmespath<2.0.0,>=0.7.1 in /usr/local/lib/python3.11/dist-packages (from boto3>=1.28.0->neptune) (1.0.1)\n",
            "Requirement already satisfied: s3transfer<0.12.0,>=0.11.0 in /usr/local/lib/python3.11/dist-packages (from boto3>=1.28.0->neptune) (0.11.1)\n",
            "Requirement already satisfied: bravado-core>=5.16.1 in /usr/local/lib/python3.11/dist-packages (from bravado<12.0.0,>=11.0.0->neptune) (6.1.1)\n",
            "Requirement already satisfied: msgpack in /usr/local/lib/python3.11/dist-packages (from bravado<12.0.0,>=11.0.0->neptune) (1.1.0)\n",
            "Requirement already satisfied: python-dateutil in /usr/local/lib/python3.11/dist-packages (from bravado<12.0.0,>=11.0.0->neptune) (2.8.2)\n",
            "Requirement already satisfied: pyyaml in /usr/local/lib/python3.11/dist-packages (from bravado<12.0.0,>=11.0.0->neptune) (6.0.2)\n",
            "Requirement already satisfied: simplejson in /usr/local/lib/python3.11/dist-packages (from bravado<12.0.0,>=11.0.0->neptune) (3.19.3)\n",
            "Requirement already satisfied: monotonic in /usr/local/lib/python3.11/dist-packages (from bravado<12.0.0,>=11.0.0->neptune) (1.6)\n",
            "Requirement already satisfied: gitdb<5,>=4.0.1 in /usr/local/lib/python3.11/dist-packages (from GitPython>=2.0.8->neptune) (4.0.12)\n",
            "Requirement already satisfied: contourpy>=1.0.1 in /usr/local/lib/python3.11/dist-packages (from matplotlib>=3.6->mne) (1.3.1)\n",
            "Requirement already satisfied: cycler>=0.10 in /usr/local/lib/python3.11/dist-packages (from matplotlib>=3.6->mne) (0.12.1)\n",
            "Requirement already satisfied: fonttools>=4.22.0 in /usr/local/lib/python3.11/dist-packages (from matplotlib>=3.6->mne) (4.55.3)\n",
            "Requirement already satisfied: kiwisolver>=1.3.1 in /usr/local/lib/python3.11/dist-packages (from matplotlib>=3.6->mne) (1.4.8)\n",
            "Requirement already satisfied: pyparsing>=2.3.1 in /usr/local/lib/python3.11/dist-packages (from matplotlib>=3.6->mne) (3.2.1)\n",
            "Requirement already satisfied: platformdirs>=2.5.0 in /usr/local/lib/python3.11/dist-packages (from pooch>=1.5->mne) (4.3.6)\n",
            "Requirement already satisfied: charset-normalizer<4,>=2 in /usr/local/lib/python3.11/dist-packages (from requests>=2.20.0->neptune) (3.4.1)\n",
            "Requirement already satisfied: idna<4,>=2.5 in /usr/local/lib/python3.11/dist-packages (from requests>=2.20.0->neptune) (3.10)\n",
            "Requirement already satisfied: certifi>=2017.4.17 in /usr/local/lib/python3.11/dist-packages (from requests>=2.20.0->neptune) (2024.12.14)\n",
            "Requirement already satisfied: jsonschema in /usr/local/lib/python3.11/dist-packages (from swagger-spec-validator>=2.7.4->neptune) (4.23.0)\n",
            "Requirement already satisfied: importlib-resources>=1.3 in /usr/local/lib/python3.11/dist-packages (from swagger-spec-validator>=2.7.4->neptune) (6.5.2)\n",
            "Requirement already satisfied: filelock in /usr/local/lib/python3.11/dist-packages (from torch>1.8.0->neptune_pytorch) (3.16.1)\n",
            "Requirement already satisfied: networkx in /usr/local/lib/python3.11/dist-packages (from torch>1.8.0->neptune_pytorch) (3.4.2)\n",
            "Requirement already satisfied: fsspec in /usr/local/lib/python3.11/dist-packages (from torch>1.8.0->neptune_pytorch) (2024.10.0)\n",
            "Requirement already satisfied: nvidia-cuda-nvrtc-cu12==12.1.105 in /usr/local/lib/python3.11/dist-packages (from torch>1.8.0->neptune_pytorch) (12.1.105)\n",
            "Requirement already satisfied: nvidia-cuda-runtime-cu12==12.1.105 in /usr/local/lib/python3.11/dist-packages (from torch>1.8.0->neptune_pytorch) (12.1.105)\n",
            "Requirement already satisfied: nvidia-cuda-cupti-cu12==12.1.105 in /usr/local/lib/python3.11/dist-packages (from torch>1.8.0->neptune_pytorch) (12.1.105)\n",
            "Requirement already satisfied: nvidia-cudnn-cu12==9.1.0.70 in /usr/local/lib/python3.11/dist-packages (from torch>1.8.0->neptune_pytorch) (9.1.0.70)\n",
            "Requirement already satisfied: nvidia-cublas-cu12==12.1.3.1 in /usr/local/lib/python3.11/dist-packages (from torch>1.8.0->neptune_pytorch) (12.1.3.1)\n",
            "Requirement already satisfied: nvidia-cufft-cu12==11.0.2.54 in /usr/local/lib/python3.11/dist-packages (from torch>1.8.0->neptune_pytorch) (11.0.2.54)\n",
            "Requirement already satisfied: nvidia-curand-cu12==10.3.2.106 in /usr/local/lib/python3.11/dist-packages (from torch>1.8.0->neptune_pytorch) (10.3.2.106)\n",
            "Requirement already satisfied: nvidia-cusolver-cu12==11.4.5.107 in /usr/local/lib/python3.11/dist-packages (from torch>1.8.0->neptune_pytorch) (11.4.5.107)\n",
            "Requirement already satisfied: nvidia-cusparse-cu12==12.1.0.106 in /usr/local/lib/python3.11/dist-packages (from torch>1.8.0->neptune_pytorch) (12.1.0.106)\n",
            "Requirement already satisfied: nvidia-nccl-cu12==2.21.5 in /usr/local/lib/python3.11/dist-packages (from torch>1.8.0->neptune_pytorch) (2.21.5)\n",
            "Requirement already satisfied: nvidia-nvtx-cu12==12.1.105 in /usr/local/lib/python3.11/dist-packages (from torch>1.8.0->neptune_pytorch) (12.1.105)\n",
            "Requirement already satisfied: triton==3.1.0 in /usr/local/lib/python3.11/dist-packages (from torch>1.8.0->neptune_pytorch) (3.1.0)\n",
            "Requirement already satisfied: sympy==1.13.1 in /usr/local/lib/python3.11/dist-packages (from torch>1.8.0->neptune_pytorch) (1.13.1)\n",
            "Requirement already satisfied: nvidia-nvjitlink-cu12 in /usr/local/lib/python3.11/dist-packages (from nvidia-cusolver-cu12==11.4.5.107->torch>1.8.0->neptune_pytorch) (12.6.85)\n",
            "Requirement already satisfied: mpmath<1.4,>=1.1.0 in /usr/local/lib/python3.11/dist-packages (from sympy==1.13.1->torch>1.8.0->neptune_pytorch) (1.3.0)\n",
            "Requirement already satisfied: MarkupSafe>=2.0 in /usr/local/lib/python3.11/dist-packages (from jinja2->mne) (3.0.2)\n",
            "Requirement already satisfied: pytz>=2020.1 in /usr/local/lib/python3.11/dist-packages (from pandas->neptune) (2024.2)\n",
            "Requirement already satisfied: tzdata>=2022.7 in /usr/local/lib/python3.11/dist-packages (from pandas->neptune) (2024.2)\n",
            "Requirement already satisfied: jsonref in /usr/local/lib/python3.11/dist-packages (from bravado-core>=5.16.1->bravado<12.0.0,>=11.0.0->neptune) (1.1.0)\n",
            "Requirement already satisfied: smmap<6,>=3.0.1 in /usr/local/lib/python3.11/dist-packages (from gitdb<5,>=4.0.1->GitPython>=2.0.8->neptune) (5.0.2)\n",
            "Requirement already satisfied: attrs>=22.2.0 in /usr/local/lib/python3.11/dist-packages (from jsonschema->swagger-spec-validator>=2.7.4->neptune) (24.3.0)\n",
            "Requirement already satisfied: jsonschema-specifications>=2023.03.6 in /usr/local/lib/python3.11/dist-packages (from jsonschema->swagger-spec-validator>=2.7.4->neptune) (2024.10.1)\n",
            "Requirement already satisfied: referencing>=0.28.4 in /usr/local/lib/python3.11/dist-packages (from jsonschema->swagger-spec-validator>=2.7.4->neptune) (0.35.1)\n",
            "Requirement already satisfied: rpds-py>=0.7.1 in /usr/local/lib/python3.11/dist-packages (from jsonschema->swagger-spec-validator>=2.7.4->neptune) (0.22.3)\n",
            "Requirement already satisfied: fqdn in /usr/local/lib/python3.11/dist-packages (from jsonschema[format-nongpl]>=2.5.1->bravado-core>=5.16.1->bravado<12.0.0,>=11.0.0->neptune) (1.5.1)\n",
            "Requirement already satisfied: isoduration in /usr/local/lib/python3.11/dist-packages (from jsonschema[format-nongpl]>=2.5.1->bravado-core>=5.16.1->bravado<12.0.0,>=11.0.0->neptune) (20.11.0)\n",
            "Requirement already satisfied: jsonpointer>1.13 in /usr/local/lib/python3.11/dist-packages (from jsonschema[format-nongpl]>=2.5.1->bravado-core>=5.16.1->bravado<12.0.0,>=11.0.0->neptune) (3.0.0)\n",
            "Requirement already satisfied: rfc3339-validator in /usr/local/lib/python3.11/dist-packages (from jsonschema[format-nongpl]>=2.5.1->bravado-core>=5.16.1->bravado<12.0.0,>=11.0.0->neptune) (0.1.4)\n",
            "Requirement already satisfied: rfc3986-validator>0.1.0 in /usr/local/lib/python3.11/dist-packages (from jsonschema[format-nongpl]>=2.5.1->bravado-core>=5.16.1->bravado<12.0.0,>=11.0.0->neptune) (0.1.1)\n",
            "Requirement already satisfied: uri-template in /usr/local/lib/python3.11/dist-packages (from jsonschema[format-nongpl]>=2.5.1->bravado-core>=5.16.1->bravado<12.0.0,>=11.0.0->neptune) (1.3.0)\n",
            "Requirement already satisfied: webcolors>=24.6.0 in /usr/local/lib/python3.11/dist-packages (from jsonschema[format-nongpl]>=2.5.1->bravado-core>=5.16.1->bravado<12.0.0,>=11.0.0->neptune) (24.11.1)\n",
            "Requirement already satisfied: arrow>=0.15.0 in /usr/local/lib/python3.11/dist-packages (from isoduration->jsonschema[format-nongpl]>=2.5.1->bravado-core>=5.16.1->bravado<12.0.0,>=11.0.0->neptune) (1.3.0)\n",
            "Requirement already satisfied: types-python-dateutil>=2.8.10 in /usr/local/lib/python3.11/dist-packages (from arrow>=0.15.0->isoduration->jsonschema[format-nongpl]>=2.5.1->bravado-core>=5.16.1->bravado<12.0.0,>=11.0.0->neptune) (2.9.0.20241206)\n"
          ]
        }
      ]
    },
    {
      "cell_type": "code",
      "source": [
        "from google.colab import drive\n",
        "drive.mount('/content/drive')\n",
        "\n",
        "import sys\n",
        "sys.path.append('/content/drive/MyDrive/Colab Notebooks')"
      ],
      "metadata": {
        "colab": {
          "base_uri": "https://localhost:8080/"
        },
        "id": "CmS5HD4QZ_GN",
        "outputId": "5e1e0a70-4413-4d62-f19d-f640c5da824f"
      },
      "execution_count": 2,
      "outputs": [
        {
          "output_type": "stream",
          "name": "stdout",
          "text": [
            "Drive already mounted at /content/drive; to attempt to forcibly remount, call drive.mount(\"/content/drive\", force_remount=True).\n"
          ]
        }
      ]
    },
    {
      "cell_type": "code",
      "execution_count": 3,
      "metadata": {
        "id": "li7HX-beZFGg"
      },
      "outputs": [],
      "source": [
        "import matplotlib.pyplot as plt\n",
        "\n",
        "import numpy as np\n",
        "import random\n",
        "import mne\n",
        "\n",
        "import torch\n",
        "from torch.utils.data.dataset import Dataset\n",
        "#import eegCompressModels\n",
        "#import imp\n",
        "#imp.reload(eegCompressModels)\n",
        "\n",
        "import neptune\n",
        "from neptune_pytorch import NeptuneLogger\n",
        "\n",
        "import datetime\n",
        "import pytz\n",
        "timeZone = pytz.timezone('America/Los_Angeles')"
      ]
    },
    {
      "cell_type": "code",
      "source": [
        "def imageCompare(start, channel = 0, plotOption=\"both\"):\n",
        "\n",
        "    original = data[channel,start:start + numSampleInput]\n",
        "\n",
        "    modelInput = np.reshape(data[:, start:start + numSampleInput], (inSize, -1), order='F').astype('float32').flatten()\n",
        "    encoded = model.encoder(torch.tensor(modelInput))\n",
        "    decoded = np.reshape(model.decoder(encoded).detach().numpy(), (nChannel, numSampleInput),order=\"F\")[channel, :]\n",
        "\n",
        "    fig = plt.figure()\n",
        "    if plotOption == \"both\":\n",
        "        plt.plot(range(start, start + numSampleInput), original, label='original')\n",
        "        plt.plot(range(start, start + numSampleInput), decoded, label='decoded')\n",
        "        plt.ylim([-1,1])\n",
        "        plt.legend()\n",
        "    elif plotOption == \"orig\":\n",
        "        plt.plot(original)\n",
        "        plt.ylim([-1,1])\n",
        "        plt.title('original')\n",
        "    else:\n",
        "        plt.plot(decoded)\n",
        "        plt.ylim([-1,1])\n",
        "        plt.title('decoded')\n",
        "\n",
        "    return fig, encoded, decoded\n",
        "\n",
        "def sizeToLayerList(encoderSizeList,\n",
        "\t\t\t\t\tdecoderSizeList,\n",
        "\t\t\t\t\tencoderActivationList,\n",
        "\t\t\t\t\tdecoderActivationList):\n",
        "\tencoderLayerList = []\n",
        "\tdecoderLayerList = []\n",
        "\n",
        "\tfor i in range(0, len(encoderSizeList) - 1):\n",
        "\t\tthisLayer = torch.nn.Linear(encoderSizeList[i], encoderSizeList[i + 1])\n",
        "\t\ttorch.nn.init.xavier_uniform_(thisLayer.weight)\n",
        "\n",
        "\t\tencoderLayerList.append(thisLayer)\n",
        "\t\tif encoderActivationList[i]:\n",
        "\t\t\tencoderLayerList.append(torch.nn.ReLU())\n",
        "\n",
        "\t#decoderSizeList = [encoderSizeList[-2]] + decoderSizeList\n",
        "\tfor i in range(0, len(decoderSizeList) - 1):\n",
        "\t\tthisLayer = torch.nn.Linear(decoderSizeList[i], decoderSizeList[i + 1])\n",
        "\t\ttorch.nn.init.xavier_uniform_(thisLayer.weight)\n",
        "\n",
        "\t\tdecoderLayerList.append(thisLayer)\n",
        "\t\tif decoderActivationList[i]:\n",
        "\t\t\tdecoderLayerList.append(torch.nn.ReLU())\n",
        "\n",
        "\treturn encoderLayerList, decoderLayerList\n",
        "\n",
        "class AE(torch.nn.Module):\n",
        "\tdef __init__(self, encoderSizeList, decoderSizeList, encoderActivationList, decoderActivationList):\n",
        "\t\tsuper().__init__()\n",
        "\n",
        "\t\tencoderLayerList, decoderLayerList = sizeToLayerList(encoderSizeList,\n",
        "\t\t\t\t\t\t\t\t\t\t\t\t\t\t\tdecoderSizeList,\n",
        "\t\t\t\t\t\t\t\t\t\t\t\t\t\t\tencoderActivationList,\n",
        "\t\t\t\t\t\t\t\t\t\t\t\t\t\t\tdecoderActivationList)\n",
        "\n",
        "\t\tself.encoder = torch.nn.Sequential(*encoderLayerList)\n",
        "\t\tself.decoder = torch.nn.Sequential(*decoderLayerList)\n",
        "\n",
        "\tdef forward(self, x):\n",
        "\t\tencoded = self.encoder(x)\n",
        "\t\tdecoded = self.decoder(encoded)\n",
        "\t\treturn decoded\n",
        "\n",
        "class CustomDataset(Dataset):\n",
        "  def __init__(self, eegNumpy, numSampleInput):\n",
        "    self.eegNumpy = eegNumpy\n",
        "    self.numSampleInput = numSampleInput\n",
        "    self.nChannel, self.nSample = eegNumpy.shape\n",
        "\n",
        "  def __len__(self):\n",
        "    return int(self.nSample/self.numSampleInput)\n",
        "\t\t#return self.nSample - self.numSampleInput\n",
        "\n",
        "  def __getitem__(self, idx):\n",
        "    image = np.reshape(self.eegNumpy[:,idx * numSampleInput : (idx + 1) * numSampleInput], (self.nChannel * self.numSampleInput,-1), order='F').transpose().astype('float32')\n",
        "    #image = np.reshape(self.eegNumpy[:,idx:idx + self.numSampleInput], (self.nChannel * self.numSampleInput,-1), order='F').transpose().astype('float32')\n",
        "    return image, 0\n"
      ],
      "metadata": {
        "id": "BEBYm07kYHqu"
      },
      "execution_count": 4,
      "outputs": []
    },
    {
      "cell_type": "markdown",
      "metadata": {
        "id": "drF9jVJaZFGk"
      },
      "source": [
        "### EEG data"
      ]
    },
    {
      "cell_type": "code",
      "execution_count": 5,
      "metadata": {
        "colab": {
          "base_uri": "https://localhost:8080/"
        },
        "id": "LZ2OUOZcZFGl",
        "outputId": "c108a7f5-f423-43d5-8928-7b175cd1854e"
      },
      "outputs": [
        {
          "output_type": "stream",
          "name": "stdout",
          "text": [
            "Extracting EDF parameters from /content/drive/MyDrive/NeuroResearch/Data/eegCompress/SVD001.edf...\n",
            "EDF file detected\n",
            "Setting channel info structure...\n",
            "Creating raw.info structure...\n"
          ]
        },
        {
          "output_type": "stream",
          "name": "stderr",
          "text": [
            "<ipython-input-5-c06354f32ef6>:1: RuntimeWarning: Omitted 9 annotation(s) that were outside data range.\n",
            "  raw = mne.io.read_raw_edf('/content/drive/MyDrive/NeuroResearch/Data/eegCompress/SVD001.edf')\n"
          ]
        }
      ],
      "source": [
        "raw = mne.io.read_raw_edf('/content/drive/MyDrive/NeuroResearch/Data/eegCompress/SVD001.edf')"
      ]
    },
    {
      "cell_type": "code",
      "execution_count": 6,
      "metadata": {
        "colab": {
          "base_uri": "https://localhost:8080/"
        },
        "id": "Bz51ks55ZFGm",
        "outputId": "6b09f8cd-763a-40c7-a764-3007aaebdd7c"
      },
      "outputs": [
        {
          "output_type": "stream",
          "name": "stdout",
          "text": [
            "<RawEDF | SVD001.edf, 46 x 1276416 (4986.0 s), ~40 KiB, data not loaded>\n",
            "<Info | 8 non-empty values\n",
            " bads: []\n",
            " ch_names: Fp1, F7, T7, P7, O1, F3, C3, P3, A1, Fz, Cz, Fp2, F8, T8, P8, ...\n",
            " chs: 46 EEG\n",
            " custom_ref_applied: False\n",
            " highpass: 0.0 Hz\n",
            " lowpass: 128.0 Hz\n",
            " meas_date: 2001-01-01 04:46:55 UTC\n",
            " nchan: 46\n",
            " projs: []\n",
            " sfreq: 256.0 Hz\n",
            " subject_info: <subject_info | his_id: SVD001>\n",
            ">\n"
          ]
        }
      ],
      "source": [
        "print(raw)\n",
        "print(raw.info)"
      ]
    },
    {
      "cell_type": "code",
      "execution_count": 7,
      "metadata": {
        "colab": {
          "base_uri": "https://localhost:8080/"
        },
        "id": "hcNIHqA6ZFGm",
        "outputId": "68fd70bd-db07-4783-8c9e-411ae6dad657"
      },
      "outputs": [
        {
          "output_type": "stream",
          "name": "stdout",
          "text": [
            "(19, 1276416)\n"
          ]
        }
      ],
      "source": [
        "chanList = range(0,19)\n",
        "nChannel = len(chanList)\n",
        "\n",
        "data = raw.get_data()[chanList] #eeg channels\n",
        "_, nSample = data.shape\n",
        "print(data.shape)"
      ]
    },
    {
      "cell_type": "code",
      "execution_count": 8,
      "metadata": {
        "id": "rZWEN5zVZFGn"
      },
      "outputs": [],
      "source": [
        "for i in range(nChannel):\n",
        "    data[i,:] = (data[i,:] - np.mean(data[i,:])) / np.std(data[i,:])"
      ]
    },
    {
      "cell_type": "markdown",
      "metadata": {
        "id": "cCXP9jYbZFGn"
      },
      "source": [
        "### Random data"
      ]
    },
    {
      "cell_type": "code",
      "execution_count": 9,
      "metadata": {
        "colab": {
          "base_uri": "https://localhost:8080/",
          "height": 36
        },
        "id": "NmmysuRuZFGo",
        "outputId": "f21f5cbb-7556-49a8-e247-ff91a6c7b932"
      },
      "outputs": [
        {
          "output_type": "execute_result",
          "data": {
            "text/plain": [
              "'\\ndata = np.random.random((1,100000))\\ndata = data - np.mean(data)\\ndata = data/np.std(data)\\nnChannel = data.shape[0]\\n'"
            ],
            "application/vnd.google.colaboratory.intrinsic+json": {
              "type": "string"
            }
          },
          "metadata": {},
          "execution_count": 9
        }
      ],
      "source": [
        "'''\n",
        "data = np.random.random((1,100000))\n",
        "data = data - np.mean(data)\n",
        "data = data/np.std(data)\n",
        "nChannel = data.shape[0]\n",
        "'''"
      ]
    },
    {
      "cell_type": "markdown",
      "metadata": {
        "id": "byjCmPBeZFGo"
      },
      "source": [
        "### Define Model, etc."
      ]
    },
    {
      "cell_type": "code",
      "execution_count": 10,
      "metadata": {
        "colab": {
          "base_uri": "https://localhost:8080/"
        },
        "id": "OGgAiuo8ZFGo",
        "outputId": "ab03c8e1-5437-4ce2-b7a9-c8d2ea99ca29"
      },
      "outputs": [
        {
          "output_type": "stream",
          "name": "stdout",
          "text": [
            "95 76\n",
            "AE(\n",
            "  (encoder): Sequential(\n",
            "    (0): Linear(in_features=95, out_features=76, bias=True)\n",
            "  )\n",
            "  (decoder): Sequential(\n",
            "    (0): Linear(in_features=76, out_features=95, bias=True)\n",
            "  )\n",
            ")\n"
          ]
        }
      ],
      "source": [
        "# Set in/out parameters\n",
        "numSampleInput = 5\n",
        "outSizeRatio = .8\n",
        "\n",
        "inSize = nChannel * numSampleInput\n",
        "outSize = int(inSize * outSizeRatio)\n",
        "print(inSize, outSize)\n",
        "\n",
        "# Construct the DataLoader\n",
        "dataset = CustomDataset(data, numSampleInput)\n",
        "batch_size = 32\n",
        "loader = torch.utils.data.DataLoader(dataset, batch_size=batch_size, shuffle=True)\n",
        "\n",
        "# Make the model\n",
        "encoderSizeList = [inSize, outSize]\n",
        "decoderSizeList = [outSize, inSize]\n",
        "encoderActivationList = [False]\n",
        "decoderActivationList = [False]\n",
        "\n",
        "model = AE(encoderSizeList, decoderSizeList, encoderActivationList, decoderActivationList)\n",
        "print(model)\n",
        "loss_function = torch.nn.MSELoss()"
      ]
    },
    {
      "cell_type": "code",
      "execution_count": 11,
      "metadata": {
        "colab": {
          "base_uri": "https://localhost:8080/"
        },
        "id": "u_HDBMzcZFGp",
        "outputId": "3669781b-3b59-4c46-c86c-37193cad721f"
      },
      "outputs": [
        {
          "output_type": "stream",
          "name": "stderr",
          "text": [
            "[neptune] [warning] NeptuneWarning: By default, these monitoring options are disabled in interactive sessions: 'capture_stdout', 'capture_stderr', 'capture_traceback', 'capture_hardware_metrics'. You can set them to 'True' when initializing the run and the monitoring will continue until you call run.stop() or the kernel stops. NOTE: To track the source files, pass their paths to the 'source_code' argument. For help, see: https://docs.neptune.ai/logging/source_code/\n"
          ]
        },
        {
          "output_type": "stream",
          "name": "stdout",
          "text": [
            "[neptune] [info   ] Neptune initialized. Open in the app: https://app.neptune.ai/jettinger35/eegCompress/e/EEG-107\n"
          ]
        }
      ],
      "source": [
        "run = neptune.init_run(\n",
        "    project=\"jettinger35/eegCompress\",\n",
        "    api_token=\"eyJhcGlfYWRkcmVzcyI6Imh0dHBzOi8vYXBwLm5lcHR1bmUuYWkiLCJhcGlfdXJsIjoiaHR0cHM6Ly9hcHAubmVwdHVuZS5haSIsImFwaV9rZXkiOiIzMjFlMzY2MS1iOWZiLTRmZWEtOGMwNy0zOTVkMTljOGVjYTMifQ==\",\n",
        ")\n",
        "\n",
        "npt_logger = NeptuneLogger(\n",
        "    run=run,\n",
        "    model=model)"
      ]
    },
    {
      "cell_type": "code",
      "execution_count": 12,
      "metadata": {
        "id": "8FRK1sLSZFGp"
      },
      "outputs": [],
      "source": [
        "optimizer = torch.optim.SGD(model.parameters(), lr=0.001, momentum=0.0)\n",
        "#optimizer = torch.optim.Adam(model.parameters())#, lr = 1e-1, weight_decay = 1e-8)\n",
        "\n",
        "totalEpoch = 0"
      ]
    },
    {
      "cell_type": "code",
      "execution_count": 13,
      "metadata": {
        "colab": {
          "base_uri": "https://localhost:8080/"
        },
        "id": "dsv6qML_ZFGp",
        "outputId": "6fd837d5-18b4-4e1a-94be-a9efe7d2a891"
      },
      "outputs": [
        {
          "output_type": "stream",
          "name": "stdout",
          "text": [
            "Model has been saved....\n"
          ]
        }
      ],
      "source": [
        "epochs = 40\n",
        "numSamplePlot = 3\n",
        "\n",
        "for epoch in range(epochs):\n",
        "\tfor (image, _) in loader:\n",
        "\t\t# Output of Autoencoder\n",
        "\t\treconstructed = model(image.to(torch.float32))\n",
        "\t\t# Calculating the loss function\n",
        "\t\tloss = loss_function(reconstructed, image)\n",
        "\n",
        "\t\t# The gradients are set to zero,\n",
        "\t\t# the gradient is computed and stored.\n",
        "\t\t# .step() performs parameter update\n",
        "\t\toptimizer.zero_grad()\n",
        "\t\tloss.backward()\n",
        "\t\toptimizer.step()\n",
        "\t\trun[npt_logger.base_namespace][\"train/log_loss\"].append(np.log(loss.item()))\n",
        "\n",
        "\tfor i in range(numSamplePlot):\n",
        "\t\tstartPlot = random.randint(0, nSample - numSampleInput)\n",
        "\t\tfig, _, _ = imageCompare(startPlot)\n",
        "\t\tplt.title(\"Total Epoch: \" + str(totalEpoch))\n",
        "\t\trun[\"fig\"].append(fig)\n",
        "\t\tplt.close()\n",
        "\n",
        "\ttotalEpoch += 1\n",
        "\n",
        "torch.save({'epoch': epoch,\n",
        "            'model_state_dict': model.state_dict(),\n",
        "            'optimizer_state_dict': optimizer.state_dict(),\n",
        "            'loss': loss}, '/content/drive/MyDrive/Colab Notebooks/savedModel_' + str(datetime.datetime.now().astimezone(timeZone)))\n",
        "print(\"Model has been saved....\")"
      ]
    },
    {
      "cell_type": "code",
      "source": [
        "startPlot = 0\n",
        "fig, encoded, decoded = imageCompare(startPlot)\n",
        "plt.show(fig)"
      ],
      "metadata": {
        "colab": {
          "base_uri": "https://localhost:8080/",
          "height": 435
        },
        "id": "8MX4N__GVAWa",
        "outputId": "83174aff-28d1-4093-d7a6-30a3bc2ee233"
      },
      "execution_count": 68,
      "outputs": [
        {
          "output_type": "display_data",
          "data": {
            "text/plain": [
              "<Figure size 640x480 with 1 Axes>"
            ],
            "image/png": "[encoded data removed]"
          },
          "metadata": {}
        }
      ]
    },
    {
      "cell_type": "code",
      "execution_count": null,
      "metadata": {
        "id": "dThz4cXkZFGq"
      },
      "outputs": [],
      "source": [
        "list(model.parameters())[0].grad"
      ]
    },
    {
      "cell_type": "code",
      "execution_count": 18,
      "metadata": {
        "colab": {
          "base_uri": "https://localhost:8080/"
        },
        "id": "3uJXZGzZZFGq",
        "outputId": "e18388c6-3737-4eb4-9a41-33ca60dd157e"
      },
      "outputs": [
        {
          "output_type": "stream",
          "name": "stdout",
          "text": [
            "('encoder.0.weight', Parameter containing:\n",
            "tensor([[ 0.2833, -0.1527, -0.0664,  ...,  0.0699,  0.0502, -0.1362],\n",
            "        [ 0.0934, -0.0641,  0.1850,  ..., -0.0131, -0.0777,  0.0605],\n",
            "        [-0.1205, -0.1093, -0.0830,  ...,  0.1054, -0.1907, -0.1182],\n",
            "        ...,\n",
            "        [ 0.1466,  0.0154, -0.0466,  ..., -0.1258, -0.1466, -0.1624],\n",
            "        [-0.0430,  0.0618, -0.0483,  ..., -0.0540, -0.0659, -0.1408],\n",
            "        [-0.1286,  0.3222,  0.0307,  ..., -0.0536, -0.0371,  0.1358]],\n",
            "       requires_grad=True))\n",
            "('encoder.0.bias', Parameter containing:\n",
            "tensor([-0.0132, -0.0468,  0.0264,  0.0218, -0.0234, -0.0306,  0.0267,  0.0012,\n",
            "         0.0084, -0.0063,  0.0214,  0.0257, -0.0779,  0.0497, -0.0018,  0.0513,\n",
            "         0.0203, -0.0389,  0.0336, -0.0024,  0.0410,  0.0852,  0.0078, -0.0170,\n",
            "         0.0184, -0.0228, -0.0346, -0.0328, -0.0217,  0.0677,  0.0488,  0.0541,\n",
            "        -0.0026, -0.0480,  0.0034,  0.0427,  0.0140, -0.0155, -0.0763, -0.0149,\n",
            "        -0.0038, -0.0309,  0.0490, -0.0328, -0.0273, -0.0655, -0.0652,  0.0278,\n",
            "        -0.0352, -0.0374, -0.0352, -0.0242,  0.0365,  0.0192, -0.0417,  0.0640,\n",
            "         0.0242, -0.0615,  0.0055,  0.0111, -0.0447, -0.0318,  0.0237, -0.0044,\n",
            "        -0.0301, -0.0261,  0.0676, -0.0006,  0.0438, -0.0070, -0.0110, -0.0103,\n",
            "         0.0234, -0.0101, -0.0871,  0.0043,  0.0756, -0.0897,  0.0196, -0.0597,\n",
            "         0.0495,  0.0254,  0.0141,  0.0047,  0.0582,  0.0417,  0.0449, -0.0432,\n",
            "        -0.0411,  0.0120,  0.0691, -0.0019,  0.0115, -0.0053,  0.0504],\n",
            "       requires_grad=True))\n",
            "('decoder.0.weight', Parameter containing:\n",
            "tensor([[ 0.2989, -0.0753, -0.0467,  ...,  0.1451, -0.1693,  0.0260],\n",
            "        [-0.1214, -0.1395,  0.0080,  ..., -0.0772,  0.0773,  0.3649],\n",
            "        [-0.1046,  0.1564, -0.0241,  ..., -0.0581,  0.0922,  0.0585],\n",
            "        ...,\n",
            "        [ 0.1270, -0.1370,  0.1039,  ..., -0.0342, -0.0156, -0.0196],\n",
            "        [ 0.0769, -0.0829, -0.1414,  ...,  0.0269,  0.1161, -0.1292],\n",
            "        [-0.0384, -0.0302, -0.0610,  ..., -0.1293,  0.0792,  0.1412]],\n",
            "       requires_grad=True))\n",
            "('decoder.0.bias', Parameter containing:\n",
            "tensor([-4.1139e-02, -3.9014e-03, -3.1302e-03,  1.8155e-02,  6.8603e-03,\n",
            "         3.6535e-03, -8.8579e-03, -1.2910e-02, -1.5518e-03, -1.7104e-02,\n",
            "        -3.0011e-02,  7.0807e-02,  2.0887e-02,  5.8115e-02, -1.6803e-02,\n",
            "        -1.3629e-02,  6.4775e-03,  6.4379e-03,  1.8322e-03, -4.0433e-02,\n",
            "        -3.8852e-02,  6.8727e-02,  1.7468e-02,  6.5030e-02,  3.3005e-02,\n",
            "         2.0321e-02,  5.6507e-03, -2.8660e-02,  1.2751e-02, -2.7328e-02,\n",
            "         3.6776e-02,  5.1253e-03,  8.0821e-02, -1.0734e-02, -2.5660e-03,\n",
            "        -1.7713e-02,  1.8484e-02,  1.4724e-02, -3.3713e-02, -1.6940e-02,\n",
            "        -3.7522e-02,  1.5946e-03,  1.8812e-02,  4.2892e-02,  6.3782e-03,\n",
            "         4.4967e-02, -3.0629e-02, -1.1423e-02,  4.6620e-03,  4.0569e-03,\n",
            "        -1.2596e-02, -8.2491e-05,  3.8649e-02, -7.1468e-04, -2.1015e-02,\n",
            "        -3.6670e-02,  8.9170e-04, -1.1970e-02, -2.3282e-02, -7.9725e-02,\n",
            "        -2.5687e-02, -3.6143e-02,  5.8237e-02,  1.3697e-02, -4.3520e-02,\n",
            "        -2.8968e-02,  1.3974e-03, -3.8483e-02,  2.1502e-02,  4.0093e-02,\n",
            "         4.2525e-02,  6.1592e-03, -1.5375e-03,  3.2787e-02,  2.7683e-02,\n",
            "         2.4200e-02, -2.2924e-02, -1.2964e-02, -1.6843e-02, -8.6836e-03,\n",
            "         7.4714e-03, -8.9707e-02, -2.8019e-02,  5.1651e-03,  6.3008e-02,\n",
            "        -9.4414e-03, -3.8541e-02, -2.0136e-02,  1.0232e-04, -2.7216e-02,\n",
            "         4.9732e-02, -5.5225e-03, -4.0092e-02,  1.8250e-02, -2.6500e-02],\n",
            "       requires_grad=True))\n"
          ]
        }
      ],
      "source": [
        "for name, param in model.named_parameters():\n",
        "    print((name, param))"
      ]
    },
    {
      "cell_type": "markdown",
      "metadata": {
        "id": "ft2chYfWZFGq"
      },
      "source": [
        "### Misc"
      ]
    }
  ],
  "metadata": {
    "kernelspec": {
      "display_name": "Python 3",
      "name": "python3"
    },
    "language_info": {
      "codemirror_mode": {
        "name": "ipython",
        "version": 3
      },
      "file_extension": ".py",
      "mimetype": "text/x-python",
      "name": "python",
      "nbconvert_exporter": "python",
      "pygments_lexer": "ipython3",
      "version": "3.10.16"
    },
    "colab": {
      "provenance": []
    }
  },
  "nbformat": 4,
  "nbformat_minor": 0
}