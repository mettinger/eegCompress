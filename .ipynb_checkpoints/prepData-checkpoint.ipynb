{
 "cells": [
  {
   "cell_type": "code",
   "execution_count": 2,
   "id": "225a75d2-daa3-4812-beeb-bb51acc4e1ce",
   "metadata": {},
   "outputs": [],
   "source": [
    "%matplotlib TkAgg\n",
    "\n",
    "import matplotlib.pyplot as plt\n",
    "import mne\n",
    "import numpy as np\n",
    "from scipy.signal import butter, sosfilt, freqs"
   ]
  },
  {
   "cell_type": "code",
   "execution_count": 3,
   "id": "265d2e73-dab8-4005-9a2b-021a34a9ffef",
   "metadata": {},
   "outputs": [],
   "source": [
    "filename = 'SVD001.edf'"
   ]
  },
  {
   "cell_type": "code",
   "execution_count": 4,
   "id": "370aad39-5e81-4f92-8977-94190f63d28b",
   "metadata": {},
   "outputs": [
    {
     "name": "stdout",
     "output_type": "stream",
     "text": [
      "Extracting EDF parameters from G:\\My Drive\\NeuroResearch\\Data\\eegCompress\\ExampleLTMFiles\\SVD001.edf...\n",
      "EDF file detected\n",
      "Setting channel info structure...\n",
      "Creating raw.info structure...\n"
     ]
    },
    {
     "name": "stderr",
     "output_type": "stream",
     "text": [
      "C:\\Users\\jetti\\AppData\\Local\\Temp\\ipykernel_3252\\2064141569.py:1: RuntimeWarning: Omitted 9 annotation(s) that were outside data range.\n",
      "  raw = mne.io.read_raw_edf('G:/My Drive/NeuroResearch/Data/eegCompress/ExampleLTMFiles/' + filename)\n"
     ]
    }
   ],
   "source": [
    "raw = mne.io.read_raw_edf('G:/My Drive/NeuroResearch/Data/eegCompress/ExampleLTMFiles/' + filename)"
   ]
  },
  {
   "cell_type": "code",
   "execution_count": 5,
   "id": "28f274a4-dd93-4933-a0c7-c5b1ec007579",
   "metadata": {
    "scrolled": true
   },
   "outputs": [
    {
     "name": "stdout",
     "output_type": "stream",
     "text": [
      "<RawEDF | SVD001.edf, 46 x 1276416 (4986.0 s), ~39 KiB, data not loaded>\n",
      "<Info | 8 non-empty values\n",
      " bads: []\n",
      " ch_names: Fp1, F7, T7, P7, O1, F3, C3, P3, A1, Fz, Cz, Fp2, F8, T8, P8, ...\n",
      " chs: 46 EEG\n",
      " custom_ref_applied: False\n",
      " highpass: 0.0 Hz\n",
      " lowpass: 128.0 Hz\n",
      " meas_date: 2001-01-01 04:46:55 UTC\n",
      " nchan: 46\n",
      " projs: []\n",
      " sfreq: 256.0 Hz\n",
      " subject_info: <subject_info | his_id: SVD001>\n",
      ">\n"
     ]
    }
   ],
   "source": [
    "print(raw)\n",
    "print(raw.info)"
   ]
  },
  {
   "cell_type": "code",
   "execution_count": 7,
   "id": "e9bcf889-b32b-4c5a-9568-9ab64e556808",
   "metadata": {},
   "outputs": [],
   "source": [
    "goodChannels = ['Fp1','F3','C3','P3','O1','Fp2','F4','C4','P4','O2','F7','T7','P7','F8','T8','P8','Fz','Cz','Pz']"
   ]
  },
  {
   "cell_type": "code",
   "execution_count": 11,
   "id": "41dd32bf-5b93-416f-9e37-c924cf6d76fd",
   "metadata": {},
   "outputs": [
    {
     "name": "stdout",
     "output_type": "stream",
     "text": [
      "(19, 398880)\n"
     ]
    }
   ],
   "source": [
    "lowPass = 40\n",
    "\n",
    "chanList = mne.pick_channels(raw.info['ch_names'], goodChannels)\n",
    "nChannel = len(chanList)\n",
    "\n",
    "dataProcessed = raw.copy().resample(lowPass * 2).get_data()[chanList].astype(np.float16) #eeg channels\n",
    "_, nSample = data.shape\n",
    "print(data.shape)"
   ]
  },
  {
   "cell_type": "code",
   "execution_count": 12,
   "id": "750a2875-ecfa-4db0-a5ff-99b3eea67837",
   "metadata": {},
   "outputs": [],
   "source": [
    "np.savez_compressed('G:/My Drive/NeuroResearch/Data/eegCompress/processedData/' + 'processed' + filename[0:-4], dataProcessed)"
   ]
  },
  {
   "cell_type": "markdown",
   "id": "d2896203-047b-4d96-aded-c38022e36ab6",
   "metadata": {},
   "source": [
    "# Scratch"
   ]
  },
  {
   "cell_type": "code",
   "execution_count": 60,
   "id": "3304a5ba-bb8d-4a87-ba59-a6ab2c6bc2dd",
   "metadata": {},
   "outputs": [
    {
     "name": "stdout",
     "output_type": "stream",
     "text": [
      "(18, 1276416)\n"
     ]
    }
   ],
   "source": [
    "sos = butter(30, [1,40], 'bandpass', fs=256, output='sos')\n",
    "\n",
    "for i in range(nChannel - 1):\n",
    "    data[i,:] = data[i,:] - data[i + 1,:]\n",
    "    data[i,:] = sosfilt(sos, data[i,:])\n",
    "    data[i,:] = (data[i,:] - np.mean(data[i,:])) / np.std(data[i,:])\n",
    "    #data[i,:] = data[i,:] + np.min(data[i,:])\n",
    "\n",
    "data = data[0:nChannel - 1,:]\n",
    "print(data.shape)"
   ]
  },
  {
   "cell_type": "code",
   "execution_count": 66,
   "id": "356ff1d7-c53d-4b90-8fdf-bfcf1ce25679",
   "metadata": {},
   "outputs": [
    {
     "data": {
      "text/plain": [
       "np.int64(2960)"
      ]
     },
     "execution_count": 66,
     "metadata": {},
     "output_type": "execute_result"
    }
   ],
   "source": [
    "sum(np.abs(data[0,:]) > 8)"
   ]
  },
  {
   "cell_type": "code",
   "execution_count": null,
   "id": "6a0777f1-7a14-4b92-b0a3-4b3af58e1ac7",
   "metadata": {},
   "outputs": [],
   "source": [
    "# 8 sigma for eliminating intervals"
   ]
  }
 ],
 "metadata": {
  "kernelspec": {
   "display_name": "Python 3 (ipykernel)",
   "language": "python",
   "name": "python3"
  },
  "language_info": {
   "codemirror_mode": {
    "name": "ipython",
    "version": 3
   },
   "file_extension": ".py",
   "mimetype": "text/x-python",
   "name": "python",
   "nbconvert_exporter": "python",
   "pygments_lexer": "ipython3",
   "version": "3.13.1"
  }
 },
 "nbformat": 4,
 "nbformat_minor": 5
}
